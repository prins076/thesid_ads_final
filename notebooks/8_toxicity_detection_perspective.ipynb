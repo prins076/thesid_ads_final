{
 "cells": [
  {
   "cell_type": "code",
   "execution_count": null,
   "metadata": {},
   "outputs": [],
   "source": [
    "import json\n",
    "from googleapiclient import discovery\n",
    "import pandas as pd\n",
    "import time"
   ]
  },
  {
   "cell_type": "code",
   "execution_count": null,
   "metadata": {},
   "outputs": [],
   "source": [
    "API_KEY = 'YOUR_API_KEY' # Place your API key here\n",
    "\n",
    "# Initialize the Perspective API client\n",
    "service = discovery.build('commentanalyzer', 'v1alpha1', developerKey=API_KEY)"
   ]
  },
  {
   "cell_type": "code",
   "execution_count": null,
   "metadata": {},
   "outputs": [],
   "source": [
    "def analyze_text(text):\n",
    "    analyze_request = {\n",
    "        'comment': {'text': text},\n",
    "        'requestedAttributes': {\n",
    "            'TOXICITY': {}, 'SEVERE_TOXICITY': {}, 'IDENTITY_ATTACK': {},\n",
    "            'INSULT': {}, 'PROFANITY': {}, 'THREAT': {}\n",
    "        },\n",
    "        'languages': ['en']\n",
    "    }\n",
    "\n",
    "    try:\n",
    "        response = service.comments().analyze(body=analyze_request).execute()\n",
    "        attribute_scores = response['attributeScores']\n",
    "        scores_dict = {attribute: scores['summaryScore']['value'] for attribute, scores in attribute_scores.items()}\n",
    "        return scores_dict\n",
    "    except Exception as e:\n",
    "        print(f'Error analyzing text: {e}')\n",
    "        return None"
   ]
  },
  {
   "cell_type": "code",
   "execution_count": null,
   "metadata": {},
   "outputs": [],
   "source": [
    "data = pd.read_csv('../data/processed/cleaned_transcripted_dataset.csv')\n",
    "\n",
    "data['full_text'] = data['video_desc'].fillna('') + ' ' + data['video_hashtags'].fillna('') + ' ' + data['stickers_on_video'].fillna('') + ' ' + data['transcription'].fillna('')"
   ]
  },
  {
   "cell_type": "code",
   "execution_count": null,
   "metadata": {},
   "outputs": [],
   "source": [
    "# Analyze text in each row of the 'full_text' column and store the scores in new columns\n",
    "attributes = ['TOXICITY', 'SEVERE_TOXICITY', 'IDENTITY_ATTACK', 'INSULT', 'PROFANITY', 'THREAT']\n",
    "for i, row in data.iterrows():\n",
    "    text = row['full_text']\n",
    "    scores = analyze_text(text)\n",
    "    if scores:\n",
    "        for attribute in attributes:\n",
    "            data.loc[i, attribute] = scores.get(attribute)\n",
    "    time.sleep(2)  # Add a delay of 2 seconds between requests"
   ]
  },
  {
   "cell_type": "code",
   "execution_count": null,
   "metadata": {},
   "outputs": [],
   "source": [
    "data.head(10)"
   ]
  },
  {
   "cell_type": "code",
   "execution_count": null,
   "metadata": {},
   "outputs": [],
   "source": [
    "# Store data to csv file\n",
    "data.to_csv('../data/processed/toxicity_analysis_perspective.csv', index=False)"
   ]
  }
 ],
 "metadata": {
  "kernelspec": {
   "display_name": "thesis_env",
   "language": "python",
   "name": "python3"
  },
  "language_info": {
   "name": "python",
   "version": "3.10.11"
  },
  "orig_nbformat": 4
 },
 "nbformat": 4,
 "nbformat_minor": 2
}
