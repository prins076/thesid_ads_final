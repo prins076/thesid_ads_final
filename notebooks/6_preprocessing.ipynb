{
 "cells": [
  {
   "attachments": {},
   "cell_type": "markdown",
   "metadata": {},
   "source": [
    "# Ideas\n",
    "Search for words that appear most commonly together with others (e.g., Trump, Biden, president, etc.)"
   ]
  },
  {
   "cell_type": "code",
   "execution_count": 2,
   "metadata": {},
   "outputs": [],
   "source": [
    "from nltk.corpus import stopwords\n",
    "from tqdm import tqdm\n",
    "\n",
    "import numpy as np\n",
    "import pandas as pd\n",
    "import warnings\n",
    "import spacy\n",
    "\n",
    "warnings.filterwarnings(\"ignore\")\n",
    "en_stopwords = stopwords.words('english')\n",
    "nlp = spacy.load('en_core_web_lg')"
   ]
  },
  {
   "cell_type": "code",
   "execution_count": 22,
   "metadata": {},
   "outputs": [],
   "source": [
    "fillers = [\n",
    "    'like',\n",
    "    'um',\n",
    "    'uh',\n",
    "    'uhm',\n",
    "    'you know',\n",
    "    'well',\n",
    "    'so',\n",
    "    'basically',\n",
    "    'actually',\n",
    "    'literally',\n",
    "    'kind of',\n",
    "    'sort of',\n",
    "    'kinda',\n",
    "    'sorta',\n",
    "    'really',\n",
    "    'totally',\n",
    "    'seriously',\n",
    "    'just',\n",
    "    'maybe',\n",
    "    'probably'\n",
    "]"
   ]
  },
  {
   "cell_type": "code",
   "execution_count": 3,
   "metadata": {},
   "outputs": [
    {
     "name": "stdout",
     "output_type": "stream",
     "text": [
      "(1152, 40)\n"
     ]
    },
    {
     "data": {
      "text/html": [
       "<div>\n",
       "<style scoped>\n",
       "    .dataframe tbody tr th:only-of-type {\n",
       "        vertical-align: middle;\n",
       "    }\n",
       "\n",
       "    .dataframe tbody tr th {\n",
       "        vertical-align: top;\n",
       "    }\n",
       "\n",
       "    .dataframe thead th {\n",
       "        text-align: right;\n",
       "    }\n",
       "</style>\n",
       "<table border=\"1\" class=\"dataframe\">\n",
       "  <thead>\n",
       "    <tr style=\"text-align: right;\">\n",
       "      <th></th>\n",
       "      <th>id</th>\n",
       "      <th>search_tag</th>\n",
       "      <th>create_time</th>\n",
       "      <th>video_desc</th>\n",
       "      <th>stickers_on_video</th>\n",
       "      <th>video_hashtags</th>\n",
       "      <th>video_duration_in_sec</th>\n",
       "      <th>is_duet_enabled</th>\n",
       "      <th>duet_from_id</th>\n",
       "      <th>music_id</th>\n",
       "      <th>...</th>\n",
       "      <th>video_url</th>\n",
       "      <th>transcription</th>\n",
       "      <th>video_contains_music</th>\n",
       "      <th>video_contains_male</th>\n",
       "      <th>video_contains_female</th>\n",
       "      <th>video_contains_noise</th>\n",
       "      <th>video_contains_no_energy</th>\n",
       "      <th>segments</th>\n",
       "      <th>total_music_duration</th>\n",
       "      <th>percentage_of_video_made_of_music</th>\n",
       "    </tr>\n",
       "  </thead>\n",
       "  <tbody>\n",
       "    <tr>\n",
       "      <th>0</th>\n",
       "      <td>6746590978280279301</td>\n",
       "      <td>joebiden</td>\n",
       "      <td>2019-10-11 12:58:42-04:00</td>\n",
       "      <td>so the former Vice President and I are best bu...</td>\n",
       "      <td>NaN</td>\n",
       "      <td>joebiden, foryoupage</td>\n",
       "      <td>32</td>\n",
       "      <td>True</td>\n",
       "      <td>0</td>\n",
       "      <td>6746567236959406853</td>\n",
       "      <td>...</td>\n",
       "      <td>https://www.tiktok.com/@/video/674659097828027...</td>\n",
       "      <td>Do you know what Dab Me Up is? Do you know wha...</td>\n",
       "      <td>False</td>\n",
       "      <td>True</td>\n",
       "      <td>False</td>\n",
       "      <td>False</td>\n",
       "      <td>False</td>\n",
       "      <td>[{'label': 'male', 'start': 0.0, 'end': 32.92}]</td>\n",
       "      <td>0.00</td>\n",
       "      <td>0.000000</td>\n",
       "    </tr>\n",
       "    <tr>\n",
       "      <th>1</th>\n",
       "      <td>6748582567995378949</td>\n",
       "      <td>maga</td>\n",
       "      <td>2019-10-16 21:47:08-04:00</td>\n",
       "      <td>“Your organization is terrible” #maga #fyp</td>\n",
       "      <td>Trump talking to CNN reporter</td>\n",
       "      <td>maga, fyp</td>\n",
       "      <td>20</td>\n",
       "      <td>True</td>\n",
       "      <td>0</td>\n",
       "      <td>6748577002363652870</td>\n",
       "      <td>...</td>\n",
       "      <td>https://www.tiktok.com/@/video/674858256799537...</td>\n",
       "      <td>Go ahead, go ahead. No, not you, not you. Your...</td>\n",
       "      <td>False</td>\n",
       "      <td>True</td>\n",
       "      <td>False</td>\n",
       "      <td>False</td>\n",
       "      <td>False</td>\n",
       "      <td>[{'label': 'male', 'start': 0.0, 'end': 20.580...</td>\n",
       "      <td>0.00</td>\n",
       "      <td>0.000000</td>\n",
       "    </tr>\n",
       "    <tr>\n",
       "      <th>2</th>\n",
       "      <td>6752944407395175686</td>\n",
       "      <td>trump2020</td>\n",
       "      <td>2019-10-28 15:53:18-04:00</td>\n",
       "      <td>The hat didn’t fit, but can the vid go viral s...</td>\n",
       "      <td>NaN</td>\n",
       "      <td>fyp, foryou, trump2020, republican</td>\n",
       "      <td>10</td>\n",
       "      <td>True</td>\n",
       "      <td>0</td>\n",
       "      <td>6744484944707406597</td>\n",
       "      <td>...</td>\n",
       "      <td>https://www.tiktok.com/@/video/675294440739517...</td>\n",
       "      <td>There's not any.</td>\n",
       "      <td>True</td>\n",
       "      <td>True</td>\n",
       "      <td>False</td>\n",
       "      <td>True</td>\n",
       "      <td>True</td>\n",
       "      <td>[{'label': 'noise', 'start': 0.0, 'end': 2.260...</td>\n",
       "      <td>4.54</td>\n",
       "      <td>45.400000</td>\n",
       "    </tr>\n",
       "    <tr>\n",
       "      <th>3</th>\n",
       "      <td>6755172553632926981</td>\n",
       "      <td>trump2020</td>\n",
       "      <td>2019-11-03 14:59:36-05:00</td>\n",
       "      <td>Keep America great #donaldtrump #trump2020 #tr...</td>\n",
       "      <td>Trump 20 20</td>\n",
       "      <td>donaldtrump, trump2020, trump, trumptrain, ins...</td>\n",
       "      <td>38</td>\n",
       "      <td>True</td>\n",
       "      <td>0</td>\n",
       "      <td>6755152356901423877</td>\n",
       "      <td>...</td>\n",
       "      <td>https://www.tiktok.com/@/video/675517255363292...</td>\n",
       "      <td>If I give you one message to hold in your hear...</td>\n",
       "      <td>True</td>\n",
       "      <td>True</td>\n",
       "      <td>False</td>\n",
       "      <td>False</td>\n",
       "      <td>True</td>\n",
       "      <td>[{'label': 'male', 'start': 0.0, 'end': 4.24},...</td>\n",
       "      <td>16.22</td>\n",
       "      <td>42.684211</td>\n",
       "    </tr>\n",
       "    <tr>\n",
       "      <th>4</th>\n",
       "      <td>6758547542276852998</td>\n",
       "      <td>maga</td>\n",
       "      <td>2019-11-12 17:16:18-05:00</td>\n",
       "      <td>#trump2020 #foryourpage #maga #maga #kag</td>\n",
       "      <td>NaN</td>\n",
       "      <td>trump2020, foryourpage, maga, maga, kag</td>\n",
       "      <td>45</td>\n",
       "      <td>False</td>\n",
       "      <td>0</td>\n",
       "      <td>6758505275898039046</td>\n",
       "      <td>...</td>\n",
       "      <td>https://www.tiktok.com/@/video/675854754227685...</td>\n",
       "      <td>What? Did I kill them, sir? Are you kidding me?</td>\n",
       "      <td>True</td>\n",
       "      <td>True</td>\n",
       "      <td>False</td>\n",
       "      <td>True</td>\n",
       "      <td>False</td>\n",
       "      <td>[{'label': 'music', 'start': 0.0, 'end': 11.46...</td>\n",
       "      <td>29.76</td>\n",
       "      <td>66.133333</td>\n",
       "    </tr>\n",
       "  </tbody>\n",
       "</table>\n",
       "<p>5 rows × 40 columns</p>\n",
       "</div>"
      ],
      "text/plain": [
       "                    id search_tag                create_time   \n",
       "0  6746590978280279301   joebiden  2019-10-11 12:58:42-04:00  \\\n",
       "1  6748582567995378949       maga  2019-10-16 21:47:08-04:00   \n",
       "2  6752944407395175686  trump2020  2019-10-28 15:53:18-04:00   \n",
       "3  6755172553632926981  trump2020  2019-11-03 14:59:36-05:00   \n",
       "4  6758547542276852998       maga  2019-11-12 17:16:18-05:00   \n",
       "\n",
       "                                          video_desc   \n",
       "0  so the former Vice President and I are best bu...  \\\n",
       "1         “Your organization is terrible” #maga #fyp   \n",
       "2  The hat didn’t fit, but can the vid go viral s...   \n",
       "3  Keep America great #donaldtrump #trump2020 #tr...   \n",
       "4           #trump2020 #foryourpage #maga #maga #kag   \n",
       "\n",
       "               stickers_on_video   \n",
       "0                            NaN  \\\n",
       "1  Trump talking to CNN reporter   \n",
       "2                            NaN   \n",
       "3                    Trump 20 20   \n",
       "4                            NaN   \n",
       "\n",
       "                                      video_hashtags  video_duration_in_sec   \n",
       "0                               joebiden, foryoupage                     32  \\\n",
       "1                                          maga, fyp                     20   \n",
       "2                 fyp, foryou, trump2020, republican                     10   \n",
       "3  donaldtrump, trump2020, trump, trumptrain, ins...                     38   \n",
       "4            trump2020, foryourpage, maga, maga, kag                     45   \n",
       "\n",
       "   is_duet_enabled  duet_from_id             music_id  ...   \n",
       "0             True             0  6746567236959406853  ...  \\\n",
       "1             True             0  6748577002363652870  ...   \n",
       "2             True             0  6744484944707406597  ...   \n",
       "3             True             0  6755152356901423877  ...   \n",
       "4            False             0  6758505275898039046  ...   \n",
       "\n",
       "                                           video_url   \n",
       "0  https://www.tiktok.com/@/video/674659097828027...  \\\n",
       "1  https://www.tiktok.com/@/video/674858256799537...   \n",
       "2  https://www.tiktok.com/@/video/675294440739517...   \n",
       "3  https://www.tiktok.com/@/video/675517255363292...   \n",
       "4  https://www.tiktok.com/@/video/675854754227685...   \n",
       "\n",
       "                                       transcription video_contains_music   \n",
       "0  Do you know what Dab Me Up is? Do you know wha...                False  \\\n",
       "1  Go ahead, go ahead. No, not you, not you. Your...                False   \n",
       "2                                   There's not any.                 True   \n",
       "3  If I give you one message to hold in your hear...                 True   \n",
       "4    What? Did I kill them, sir? Are you kidding me?                 True   \n",
       "\n",
       "   video_contains_male  video_contains_female  video_contains_noise   \n",
       "0                 True                  False                 False  \\\n",
       "1                 True                  False                 False   \n",
       "2                 True                  False                  True   \n",
       "3                 True                  False                 False   \n",
       "4                 True                  False                  True   \n",
       "\n",
       "   video_contains_no_energy   \n",
       "0                     False  \\\n",
       "1                     False   \n",
       "2                      True   \n",
       "3                      True   \n",
       "4                     False   \n",
       "\n",
       "                                            segments  total_music_duration   \n",
       "0    [{'label': 'male', 'start': 0.0, 'end': 32.92}]                  0.00  \\\n",
       "1  [{'label': 'male', 'start': 0.0, 'end': 20.580...                  0.00   \n",
       "2  [{'label': 'noise', 'start': 0.0, 'end': 2.260...                  4.54   \n",
       "3  [{'label': 'male', 'start': 0.0, 'end': 4.24},...                 16.22   \n",
       "4  [{'label': 'music', 'start': 0.0, 'end': 11.46...                 29.76   \n",
       "\n",
       "  percentage_of_video_made_of_music  \n",
       "0                          0.000000  \n",
       "1                          0.000000  \n",
       "2                         45.400000  \n",
       "3                         42.684211  \n",
       "4                         66.133333  \n",
       "\n",
       "[5 rows x 40 columns]"
      ]
     },
     "execution_count": 3,
     "metadata": {},
     "output_type": "execute_result"
    }
   ],
   "source": [
    "data = pd.read_csv('../data/processed/cleaned_transcripted_dataset.csv')\n",
    "print(data.shape)\n",
    "data.head()"
   ]
  },
  {
   "attachments": {},
   "cell_type": "markdown",
   "metadata": {},
   "source": [
    "# Preprocessing"
   ]
  },
  {
   "cell_type": "code",
   "execution_count": 5,
   "metadata": {},
   "outputs": [
    {
     "name": "stdout",
     "output_type": "stream",
     "text": [
      "“your organization is terrible” #maga #fyp go ahead, go ahead. no, not you, not you. your organization's terrible. your organization's terrible. let's go. go ahead. quiet, quiet. go ahead, she's asking a question. don't be rude. don't be rude. no, i'm not going to give you a ques- i'm not going to give you a question. you are fake news. trump talking to cnn reporter\n"
     ]
    }
   ],
   "source": [
    "data['full_text'] = data['video_desc'].fillna('') + ' ' + data['transcription'] + ' ' + data['stickers_on_video'].fillna('')\n",
    "data['full_text'] = data['full_text'].str.lower()\n",
    "\n",
    "print(data.full_text.iloc[1])"
   ]
  },
  {
   "attachments": {},
   "cell_type": "markdown",
   "metadata": {},
   "source": [
    "# Lemmatization"
   ]
  },
  {
   "cell_type": "code",
   "execution_count": 6,
   "metadata": {},
   "outputs": [
    {
     "name": "stderr",
     "output_type": "stream",
     "text": [
      "100%|██████████| 1152/1152 [01:30<00:00, 12.68it/s] \n"
     ]
    }
   ],
   "source": [
    "lemmas = []\n",
    "for doc in tqdm(nlp.pipe(data['full_text'], disable=[\"tok2vec\", \"tagger\", \"parser\", \"attribute_ruler\"], n_process=-1), total=len(data['full_text'])):\n",
    "    doc_lemmas = []\n",
    "    for token in doc:\n",
    "        str_token = str(token)\n",
    "        if not token.is_punct and str_token not in en_stopwords:\n",
    "            doc_lemmas.append(token.lemma_)\n",
    "    lemmas.append(' '.join(doc_lemmas))\n",
    "\n",
    "data['full_text_lemmas'] = lemmas"
   ]
  },
  {
   "cell_type": "code",
   "execution_count": 8,
   "metadata": {},
   "outputs": [
    {
     "data": {
      "text/plain": [
       "0    former vice president best buds joebiden foryo...\n",
       "1    organization terrible maga fyp go ahead go ahe...\n",
       "2    hat n’t fit vid go viral trump sees it? 😂 #fyp...\n",
       "3    keep america great donaldtrump trump2020 trump...\n",
       "4    trump2020 foryourpage maga maga kag kill sir k...\n",
       "Name: full_text_lemmas, dtype: object"
      ]
     },
     "execution_count": 8,
     "metadata": {},
     "output_type": "execute_result"
    }
   ],
   "source": [
    "data.full_text_lemmas.head(5)"
   ]
  },
  {
   "attachments": {},
   "cell_type": "markdown",
   "metadata": {},
   "source": [
    "# Removing fillers"
   ]
  },
  {
   "cell_type": "code",
   "execution_count": 23,
   "metadata": {},
   "outputs": [],
   "source": [
    "for filler in fillers:\n",
    "    filler = ' {} '.format(filler)\n",
    "    data['full_text_lemmas'] = data['full_text_lemmas'].str.replace(filler, ' ')"
   ]
  },
  {
   "attachments": {},
   "cell_type": "markdown",
   "metadata": {},
   "source": [
    "# Saving dataset"
   ]
  },
  {
   "cell_type": "code",
   "execution_count": 7,
   "metadata": {},
   "outputs": [],
   "source": [
    "data.to_csv('../data/processed/preprocessed_lemma_dataset.csv', index=False)"
   ]
  }
 ],
 "metadata": {
  "kernelspec": {
   "display_name": "thesis_env",
   "language": "python",
   "name": "python3"
  },
  "language_info": {
   "codemirror_mode": {
    "name": "ipython",
    "version": 3
   },
   "file_extension": ".py",
   "mimetype": "text/x-python",
   "name": "python",
   "nbconvert_exporter": "python",
   "pygments_lexer": "ipython3",
   "version": "3.10.11"
  },
  "orig_nbformat": 4
 },
 "nbformat": 4,
 "nbformat_minor": 2
}
